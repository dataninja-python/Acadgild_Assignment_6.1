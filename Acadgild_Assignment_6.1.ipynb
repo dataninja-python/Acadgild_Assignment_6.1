{
 "cells": [
  {
   "cell_type": "markdown",
   "metadata": {},
   "source": [
    "## Write a function that creates an Alexandre Theophile Vandermonde matrix.\n",
    "\n",
    "Specific instructions:\n",
    "1. create a function\n",
    "2. including an increasing boolean argument\n",
    "2.1. if increasing = False, then ith column = i**(N-i-1), else opposite is true.\n",
    "2.2. need a vector to be supplied as x\n",
    "\n",
    "\n",
    "Note: completion requires showing detailed steps used to create the this function.  Assume this means do not use built in numpy function.  This is unclear so I will submit multiple solution approaches."
   ]
  },
  {
   "cell_type": "code",
   "execution_count": 1,
   "metadata": {},
   "outputs": [],
   "source": [
    "import numpy as np"
   ]
  },
  {
   "cell_type": "code",
   "execution_count": 2,
   "metadata": {},
   "outputs": [],
   "source": [
    "def main():\n",
    "    \"\"\"Calls functions to create desired Vandermonde matrix.\"\"\"\n",
    "    result = 0\n",
    "    vector_list = [1, 2, 7, 10, 20, 100]\n",
    "    number_of_columns = 3\n",
    "    increasing_by_power = True\n",
    "    result = calculate_matrix(vector_list, number_of_columns, increasing_by_power)\n",
    "    result_formatted = create_formatted_array(result)\n",
    "    result_of_test = test_results(vector_list, number_of_columns, increasing_by_power)\n",
    "    return result_formatted, result_of_test\n",
    "\n",
    "def create_formatted_array(vector_lists): return np.column_stack(vector_lists)    \n",
    "\n",
    "def calculate_increasing_matrix(vector_list, number_of_columns):\n",
    "    \"\"\"Calculate a matrix based on power increasing by 1 with the number of columns\"\"\"\n",
    "    calculated_vector_list = []\n",
    "    calculated_column = []\n",
    "    power_without_column_number = number_of_columns\n",
    "    for column_number in range(number_of_columns, 0, -1):\n",
    "        for vector in vector_list:\n",
    "            power_multiple = (power_without_column_number - column_number)\n",
    "            vector_power_value = vector ** power_multiple\n",
    "            calculated_column.append(vector_power_value)\n",
    "        calculated_vector_list.append(calculated_column)\n",
    "        calculated_column = []\n",
    "    return calculated_vector_list\n",
    "\n",
    "def calculate_decreasing_matrix(vector_list, number_of_columns):\n",
    "    \"\"\"Calculate a matrix based on power decreasing by 1 with the number of columns\"\"\"\n",
    "    calculated_vector_list = []\n",
    "    calculated_column = []\n",
    "    power_without_column_number = number_of_columns - 1\n",
    "    for column_number in range(number_of_columns):\n",
    "        for vector in vector_list:\n",
    "            vector_power_value = vector ** (power_without_column_number - column_number)\n",
    "            calculated_column.append(vector_power_value)\n",
    "        calculated_vector_list.append(calculated_column)\n",
    "        calculated_column = []\n",
    "    return calculated_vector_list\n",
    "\n",
    "def calculate_matrix(vector_list, number_of_columns, increasing_by_power):\n",
    "    \"\"\"Calculate a matrix where a vector is increased by the current column value.\"\"\"\n",
    "    if increasing_by_power == True:\n",
    "        result_increasing = calculate_increasing_matrix(vector_list, number_of_columns)\n",
    "        return result_increasing\n",
    "    elif increasing_by_power == False:\n",
    "        result_decreasing = calculate_decreasing_matrix(vector_list, number_of_columns)\n",
    "        return result_decreasing\n",
    "    else:\n",
    "        print('There is a problem.')\n",
    "\n",
    "def test_results(vector_list, number_of_columns, increasing_by_power):\n",
    "    vector = np.array(vector_list)\n",
    "    test_output = np.vander(vector, N=number_of_columns, increasing=increasing_by_power)\n",
    "    return test_output"
   ]
  },
  {
   "cell_type": "code",
   "execution_count": 3,
   "metadata": {},
   "outputs": [
    {
     "name": "stdout",
     "output_type": "stream",
     "text": [
      "Here is the Vander matrix created by this program:\n",
      "[[    1     1     1]\n",
      " [    1     2     4]\n",
      " [    1     7    49]\n",
      " [    1    10   100]\n",
      " [    1    20   400]\n",
      " [    1   100 10000]]\n",
      "\n",
      "\n",
      "Here is the Vander matrix created by numpy's built in function:\n",
      "[[    1     1     1]\n",
      " [    1     2     4]\n",
      " [    1     7    49]\n",
      " [    1    10   100]\n",
      " [    1    20   400]\n",
      " [    1   100 10000]]\n"
     ]
    }
   ],
   "source": [
    "if __name__ == \"__main__\":\n",
    "    final_matrix, test_matrix = main()\n",
    "    print('Here is the Vander matrix created by this program:')\n",
    "    print(final_matrix)\n",
    "    print('\\n')\n",
    "    print(\"Here is the Vander matrix created by numpy's built in function:\")\n",
    "    print(test_matrix)"
   ]
  }
 ],
 "metadata": {
  "kernelspec": {
   "display_name": "Python 3",
   "language": "python",
   "name": "python3"
  },
  "language_info": {
   "codemirror_mode": {
    "name": "ipython",
    "version": 3
   },
   "file_extension": ".py",
   "mimetype": "text/x-python",
   "name": "python",
   "nbconvert_exporter": "python",
   "pygments_lexer": "ipython3",
   "version": "3.6.6"
  }
 },
 "nbformat": 4,
 "nbformat_minor": 2
}
